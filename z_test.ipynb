{
 "cells": [
  {
   "cell_type": "code",
   "execution_count": 1,
   "metadata": {},
   "outputs": [],
   "source": [
    "import pandas as pd\n",
    "import numpy as np\n",
    "import torch\n",
    "from torch import nn"
   ]
  },
  {
   "cell_type": "code",
   "execution_count": 2,
   "metadata": {},
   "outputs": [
    {
     "data": {
      "text/html": [
       "<div>\n",
       "<style scoped>\n",
       "    .dataframe tbody tr th:only-of-type {\n",
       "        vertical-align: middle;\n",
       "    }\n",
       "\n",
       "    .dataframe tbody tr th {\n",
       "        vertical-align: top;\n",
       "    }\n",
       "\n",
       "    .dataframe thead th {\n",
       "        text-align: right;\n",
       "    }\n",
       "</style>\n",
       "<table border=\"1\" class=\"dataframe\">\n",
       "  <thead>\n",
       "    <tr style=\"text-align: right;\">\n",
       "      <th></th>\n",
       "      <th>Timestamp</th>\n",
       "      <th>Open</th>\n",
       "      <th>High</th>\n",
       "      <th>Low</th>\n",
       "      <th>Close</th>\n",
       "      <th>Volume</th>\n",
       "    </tr>\n",
       "  </thead>\n",
       "  <tbody>\n",
       "    <tr>\n",
       "      <th>0</th>\n",
       "      <td>2023-01-01 00:00:00</td>\n",
       "      <td>16541.77</td>\n",
       "      <td>16544.76</td>\n",
       "      <td>16527.51</td>\n",
       "      <td>16535.38</td>\n",
       "      <td>486.60903</td>\n",
       "    </tr>\n",
       "    <tr>\n",
       "      <th>1</th>\n",
       "      <td>2023-01-01 00:05:00</td>\n",
       "      <td>16534.91</td>\n",
       "      <td>16540.43</td>\n",
       "      <td>16522.55</td>\n",
       "      <td>16526.67</td>\n",
       "      <td>391.19043</td>\n",
       "    </tr>\n",
       "    <tr>\n",
       "      <th>2</th>\n",
       "      <td>2023-01-01 00:10:00</td>\n",
       "      <td>16526.67</td>\n",
       "      <td>16530.87</td>\n",
       "      <td>16520.00</td>\n",
       "      <td>16520.69</td>\n",
       "      <td>294.73889</td>\n",
       "    </tr>\n",
       "    <tr>\n",
       "      <th>3</th>\n",
       "      <td>2023-01-01 00:15:00</td>\n",
       "      <td>16521.26</td>\n",
       "      <td>16537.73</td>\n",
       "      <td>16517.72</td>\n",
       "      <td>16534.94</td>\n",
       "      <td>481.18777</td>\n",
       "    </tr>\n",
       "    <tr>\n",
       "      <th>4</th>\n",
       "      <td>2023-01-01 00:20:00</td>\n",
       "      <td>16534.94</td>\n",
       "      <td>16540.66</td>\n",
       "      <td>16532.33</td>\n",
       "      <td>16535.54</td>\n",
       "      <td>309.53189</td>\n",
       "    </tr>\n",
       "    <tr>\n",
       "      <th>...</th>\n",
       "      <td>...</td>\n",
       "      <td>...</td>\n",
       "      <td>...</td>\n",
       "      <td>...</td>\n",
       "      <td>...</td>\n",
       "      <td>...</td>\n",
       "    </tr>\n",
       "    <tr>\n",
       "      <th>78892</th>\n",
       "      <td>2023-10-01 23:40:00</td>\n",
       "      <td>27940.87</td>\n",
       "      <td>27971.66</td>\n",
       "      <td>27933.45</td>\n",
       "      <td>27968.66</td>\n",
       "      <td>158.49870</td>\n",
       "    </tr>\n",
       "    <tr>\n",
       "      <th>78893</th>\n",
       "      <td>2023-10-01 23:45:00</td>\n",
       "      <td>27968.66</td>\n",
       "      <td>27973.01</td>\n",
       "      <td>27941.16</td>\n",
       "      <td>27970.41</td>\n",
       "      <td>114.56755</td>\n",
       "    </tr>\n",
       "    <tr>\n",
       "      <th>78894</th>\n",
       "      <td>2023-10-01 23:50:00</td>\n",
       "      <td>27970.41</td>\n",
       "      <td>28000.00</td>\n",
       "      <td>27958.60</td>\n",
       "      <td>27978.10</td>\n",
       "      <td>134.47609</td>\n",
       "    </tr>\n",
       "    <tr>\n",
       "      <th>78895</th>\n",
       "      <td>2023-10-01 23:55:00</td>\n",
       "      <td>27978.10</td>\n",
       "      <td>27992.58</td>\n",
       "      <td>27953.39</td>\n",
       "      <td>27992.57</td>\n",
       "      <td>123.49422</td>\n",
       "    </tr>\n",
       "    <tr>\n",
       "      <th>78896</th>\n",
       "      <td>2023-10-02 00:00:00</td>\n",
       "      <td>27992.58</td>\n",
       "      <td>28062.43</td>\n",
       "      <td>27969.66</td>\n",
       "      <td>27980.71</td>\n",
       "      <td>692.66397</td>\n",
       "    </tr>\n",
       "  </tbody>\n",
       "</table>\n",
       "<p>78897 rows × 6 columns</p>\n",
       "</div>"
      ],
      "text/plain": [
       "                 Timestamp      Open      High       Low     Close     Volume\n",
       "0      2023-01-01 00:00:00  16541.77  16544.76  16527.51  16535.38  486.60903\n",
       "1      2023-01-01 00:05:00  16534.91  16540.43  16522.55  16526.67  391.19043\n",
       "2      2023-01-01 00:10:00  16526.67  16530.87  16520.00  16520.69  294.73889\n",
       "3      2023-01-01 00:15:00  16521.26  16537.73  16517.72  16534.94  481.18777\n",
       "4      2023-01-01 00:20:00  16534.94  16540.66  16532.33  16535.54  309.53189\n",
       "...                    ...       ...       ...       ...       ...        ...\n",
       "78892  2023-10-01 23:40:00  27940.87  27971.66  27933.45  27968.66  158.49870\n",
       "78893  2023-10-01 23:45:00  27968.66  27973.01  27941.16  27970.41  114.56755\n",
       "78894  2023-10-01 23:50:00  27970.41  28000.00  27958.60  27978.10  134.47609\n",
       "78895  2023-10-01 23:55:00  27978.10  27992.58  27953.39  27992.57  123.49422\n",
       "78896  2023-10-02 00:00:00  27992.58  28062.43  27969.66  27980.71  692.66397\n",
       "\n",
       "[78897 rows x 6 columns]"
      ]
     },
     "execution_count": 2,
     "metadata": {},
     "output_type": "execute_result"
    }
   ],
   "source": [
    "data = pd.read_csv('data/BTCUSDT_5MIN_data.csv')\n",
    "data"
   ]
  },
  {
   "cell_type": "code",
   "execution_count": 3,
   "metadata": {},
   "outputs": [
    {
     "data": {
      "text/html": [
       "<div>\n",
       "<style scoped>\n",
       "    .dataframe tbody tr th:only-of-type {\n",
       "        vertical-align: middle;\n",
       "    }\n",
       "\n",
       "    .dataframe tbody tr th {\n",
       "        vertical-align: top;\n",
       "    }\n",
       "\n",
       "    .dataframe thead th {\n",
       "        text-align: right;\n",
       "    }\n",
       "</style>\n",
       "<table border=\"1\" class=\"dataframe\">\n",
       "  <thead>\n",
       "    <tr style=\"text-align: right;\">\n",
       "      <th></th>\n",
       "      <th>Timestamp</th>\n",
       "      <th>Open</th>\n",
       "      <th>High</th>\n",
       "      <th>Low</th>\n",
       "      <th>Close</th>\n",
       "      <th>Volume</th>\n",
       "    </tr>\n",
       "  </thead>\n",
       "  <tbody>\n",
       "    <tr>\n",
       "      <th>0</th>\n",
       "      <td>1</td>\n",
       "      <td>1</td>\n",
       "      <td>1</td>\n",
       "      <td>1</td>\n",
       "      <td>1</td>\n",
       "      <td>1</td>\n",
       "    </tr>\n",
       "    <tr>\n",
       "      <th>1</th>\n",
       "      <td>2</td>\n",
       "      <td>2</td>\n",
       "      <td>2</td>\n",
       "      <td>2</td>\n",
       "      <td>2</td>\n",
       "      <td>2</td>\n",
       "    </tr>\n",
       "    <tr>\n",
       "      <th>2</th>\n",
       "      <td>3</td>\n",
       "      <td>3</td>\n",
       "      <td>3</td>\n",
       "      <td>3</td>\n",
       "      <td>3</td>\n",
       "      <td>3</td>\n",
       "    </tr>\n",
       "    <tr>\n",
       "      <th>3</th>\n",
       "      <td>4</td>\n",
       "      <td>4</td>\n",
       "      <td>4</td>\n",
       "      <td>4</td>\n",
       "      <td>4</td>\n",
       "      <td>4</td>\n",
       "    </tr>\n",
       "    <tr>\n",
       "      <th>4</th>\n",
       "      <td>5</td>\n",
       "      <td>5</td>\n",
       "      <td>5</td>\n",
       "      <td>5</td>\n",
       "      <td>5</td>\n",
       "      <td>5</td>\n",
       "    </tr>\n",
       "  </tbody>\n",
       "</table>\n",
       "</div>"
      ],
      "text/plain": [
       "   Timestamp  Open  High  Low  Close  Volume\n",
       "0          1     1     1    1      1       1\n",
       "1          2     2     2    2      2       2\n",
       "2          3     3     3    3      3       3\n",
       "3          4     4     4    4      4       4\n",
       "4          5     5     5    5      5       5"
      ]
     },
     "execution_count": 3,
     "metadata": {},
     "output_type": "execute_result"
    }
   ],
   "source": [
    "data = {\n",
    "    'Timestamp':list(range(1, 6)),\n",
    "     'Open':list(range(1, 6)),\n",
    "     'High':list(range(1, 6)),\n",
    "     'Low':list(range(1, 6)),\n",
    "     'Close':list(range(1, 6)),\n",
    "     'Volume':list(range(1, 6)),\n",
    "}\n",
    "data = pd.DataFrame(data)\n",
    "data"
   ]
  },
  {
   "cell_type": "code",
   "execution_count": 4,
   "metadata": {},
   "outputs": [],
   "source": [
    "import environment\n",
    "from environment import TradingEnvironment\n",
    "import importlib\n",
    "importlib.reload(environment)\n",
    "\n",
    "env = TradingEnvironment(data=data,\n",
    "                         initial_balance=10)"
   ]
  },
  {
   "cell_type": "code",
   "execution_count": 5,
   "metadata": {},
   "outputs": [
    {
     "name": "stdout",
     "output_type": "stream",
     "text": [
      "Step: 0\n",
      "State: [1 1 1 1 1 1]\n",
      "Current balance: 10\n",
      "Portfolio value: 0\n"
     ]
    }
   ],
   "source": [
    "env.print_status()"
   ]
  },
  {
   "cell_type": "code",
   "execution_count": 6,
   "metadata": {},
   "outputs": [
    {
     "name": "stdout",
     "output_type": "stream",
     "text": [
      "There are no open positions.\n",
      "Step: 1\n",
      "State: [2 2 2 2 2 2]\n",
      "Current balance: 10\n",
      "Portfolio value: 0\n"
     ]
    }
   ],
   "source": [
    "# Perform a step where nothing happens\n",
    "env.step(action=0, share=0)\n",
    "env.print_status()"
   ]
  },
  {
   "cell_type": "code",
   "execution_count": 7,
   "metadata": {},
   "outputs": [
    {
     "name": "stdout",
     "output_type": "stream",
     "text": [
      "New position opened: [1, 1, 3]\n",
      "Step: 2\n",
      "State: [3 3 3 3 3 3]\n",
      "Current balance: 7\n",
      "Portfolio value: 3\n"
     ]
    }
   ],
   "source": [
    "# Buy Long\n",
    "env.step(action=1, share=1)\n",
    "env.print_status()"
   ]
  },
  {
   "cell_type": "code",
   "execution_count": 8,
   "metadata": {},
   "outputs": [],
   "source": [
    "# Hold\n",
    "# for i in range(10000):\n",
    "#     env.step(action=0, share=0)\n",
    "    # env.print_status()"
   ]
  },
  {
   "cell_type": "code",
   "execution_count": 9,
   "metadata": {},
   "outputs": [
    {
     "name": "stdout",
     "output_type": "stream",
     "text": [
      "You hold: [1, 1, 3]\n"
     ]
    },
    {
     "data": {
      "text/plain": [
       "0"
      ]
     },
     "execution_count": 9,
     "metadata": {},
     "output_type": "execute_result"
    }
   ],
   "source": [
    "env.step(action=0, share=0)"
   ]
  },
  {
   "cell_type": "code",
   "execution_count": 10,
   "metadata": {},
   "outputs": [
    {
     "name": "stdout",
     "output_type": "stream",
     "text": [
      "Step: 3\n",
      "State: [4 4 4 4 4 4]\n",
      "Current balance: 7\n",
      "Portfolio value: 4\n"
     ]
    }
   ],
   "source": [
    "env.print_status()"
   ]
  },
  {
   "cell_type": "code",
   "execution_count": 11,
   "metadata": {},
   "outputs": [
    {
     "name": "stdout",
     "output_type": "stream",
     "text": [
      "Share sold: (0, 0, 0)\n",
      "Transaction outcome: 2\n",
      "Step: 4\n",
      "State: [5 5 5 5 5 5]\n",
      "Current balance: 9\n",
      "Portfolio value: 0\n"
     ]
    }
   ],
   "source": [
    "# Buy Short\n",
    "env.step(action=-1, share=1)\n",
    "env.print_status()"
   ]
  },
  {
   "cell_type": "code",
   "execution_count": 9,
   "metadata": {},
   "outputs": [
    {
     "data": {
      "text/plain": [
       "1000.0"
      ]
     },
     "execution_count": 9,
     "metadata": {},
     "output_type": "execute_result"
    }
   ],
   "source": [
    "434.4242+565.5758000000001"
   ]
  },
  {
   "cell_type": "code",
   "execution_count": 10,
   "metadata": {},
   "outputs": [
    {
     "name": "stdout",
     "output_type": "stream",
     "text": [
      "There are no open positions.\n",
      "Step: 10004\n",
      "State: ['2023-02-04 17:40:00' 23397.2 23425.98 23396.88 23421.06 475.49464]\n",
      "Current balance: 711.1186000000001\n",
      "Portfolio value: 288.88139999999987\n"
     ]
    }
   ],
   "source": [
    "env.step(action=0, share=0.02)\n",
    "env.print_status()"
   ]
  },
  {
   "cell_type": "code",
   "execution_count": 11,
   "metadata": {},
   "outputs": [
    {
     "name": "stdout",
     "output_type": "stream",
     "text": [
      "New position opened: [-1, 0.02, 23421.06]\n",
      "Step: 10005\n",
      "State: ['2023-02-04 17:45:00' 23421.06 23463.99 23416.63 23444.05 922.97363]\n",
      "Current balance: 242.69740000000007\n",
      "Portfolio value: 757.3026\n"
     ]
    }
   ],
   "source": [
    "# Buy more Short\n",
    "env.step(action=-1, share=0.02)\n",
    "env.print_status()"
   ]
  }
 ],
 "metadata": {
  "kernelspec": {
   "display_name": "Python 3",
   "language": "python",
   "name": "python3"
  },
  "language_info": {
   "codemirror_mode": {
    "name": "ipython",
    "version": 3
   },
   "file_extension": ".py",
   "mimetype": "text/x-python",
   "name": "python",
   "nbconvert_exporter": "python",
   "pygments_lexer": "ipython3",
   "version": "3.11.4"
  },
  "orig_nbformat": 4
 },
 "nbformat": 4,
 "nbformat_minor": 2
}
