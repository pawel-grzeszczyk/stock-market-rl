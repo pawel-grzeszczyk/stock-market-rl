{
 "cells": [
  {
   "cell_type": "code",
   "execution_count": 14,
   "metadata": {},
   "outputs": [],
   "source": [
    "import pandas as pd\n",
    "import numpy as np\n",
    "import torch\n",
    "from torch import nn"
   ]
  },
  {
   "cell_type": "code",
   "execution_count": 15,
   "metadata": {},
   "outputs": [],
   "source": [
    "# data = pd.read_csv('data/BTCUSDT_5MIN_data.csv')\n",
    "# data"
   ]
  },
  {
   "cell_type": "code",
   "execution_count": 16,
   "metadata": {},
   "outputs": [
    {
     "data": {
      "text/html": [
       "<div>\n",
       "<style scoped>\n",
       "    .dataframe tbody tr th:only-of-type {\n",
       "        vertical-align: middle;\n",
       "    }\n",
       "\n",
       "    .dataframe tbody tr th {\n",
       "        vertical-align: top;\n",
       "    }\n",
       "\n",
       "    .dataframe thead th {\n",
       "        text-align: right;\n",
       "    }\n",
       "</style>\n",
       "<table border=\"1\" class=\"dataframe\">\n",
       "  <thead>\n",
       "    <tr style=\"text-align: right;\">\n",
       "      <th></th>\n",
       "      <th>Timestamp</th>\n",
       "      <th>Open</th>\n",
       "      <th>High</th>\n",
       "      <th>Low</th>\n",
       "      <th>Close</th>\n",
       "      <th>Volume</th>\n",
       "    </tr>\n",
       "  </thead>\n",
       "  <tbody>\n",
       "    <tr>\n",
       "      <th>0</th>\n",
       "      <td>1</td>\n",
       "      <td>1</td>\n",
       "      <td>1</td>\n",
       "      <td>1</td>\n",
       "      <td>1</td>\n",
       "      <td>1</td>\n",
       "    </tr>\n",
       "    <tr>\n",
       "      <th>1</th>\n",
       "      <td>2</td>\n",
       "      <td>2</td>\n",
       "      <td>2</td>\n",
       "      <td>2</td>\n",
       "      <td>2</td>\n",
       "      <td>2</td>\n",
       "    </tr>\n",
       "    <tr>\n",
       "      <th>2</th>\n",
       "      <td>3</td>\n",
       "      <td>3</td>\n",
       "      <td>3</td>\n",
       "      <td>3</td>\n",
       "      <td>3</td>\n",
       "      <td>3</td>\n",
       "    </tr>\n",
       "    <tr>\n",
       "      <th>3</th>\n",
       "      <td>4</td>\n",
       "      <td>4</td>\n",
       "      <td>4</td>\n",
       "      <td>4</td>\n",
       "      <td>4</td>\n",
       "      <td>4</td>\n",
       "    </tr>\n",
       "    <tr>\n",
       "      <th>4</th>\n",
       "      <td>5</td>\n",
       "      <td>5</td>\n",
       "      <td>5</td>\n",
       "      <td>5</td>\n",
       "      <td>5</td>\n",
       "      <td>5</td>\n",
       "    </tr>\n",
       "    <tr>\n",
       "      <th>5</th>\n",
       "      <td>6</td>\n",
       "      <td>6</td>\n",
       "      <td>6</td>\n",
       "      <td>6</td>\n",
       "      <td>6</td>\n",
       "      <td>6</td>\n",
       "    </tr>\n",
       "    <tr>\n",
       "      <th>6</th>\n",
       "      <td>7</td>\n",
       "      <td>7</td>\n",
       "      <td>7</td>\n",
       "      <td>7</td>\n",
       "      <td>7</td>\n",
       "      <td>7</td>\n",
       "    </tr>\n",
       "    <tr>\n",
       "      <th>7</th>\n",
       "      <td>8</td>\n",
       "      <td>8</td>\n",
       "      <td>8</td>\n",
       "      <td>8</td>\n",
       "      <td>8</td>\n",
       "      <td>8</td>\n",
       "    </tr>\n",
       "    <tr>\n",
       "      <th>8</th>\n",
       "      <td>9</td>\n",
       "      <td>9</td>\n",
       "      <td>9</td>\n",
       "      <td>9</td>\n",
       "      <td>9</td>\n",
       "      <td>9</td>\n",
       "    </tr>\n",
       "    <tr>\n",
       "      <th>9</th>\n",
       "      <td>10</td>\n",
       "      <td>10</td>\n",
       "      <td>10</td>\n",
       "      <td>10</td>\n",
       "      <td>10</td>\n",
       "      <td>10</td>\n",
       "    </tr>\n",
       "  </tbody>\n",
       "</table>\n",
       "</div>"
      ],
      "text/plain": [
       "   Timestamp  Open  High  Low  Close  Volume\n",
       "0          1     1     1    1      1       1\n",
       "1          2     2     2    2      2       2\n",
       "2          3     3     3    3      3       3\n",
       "3          4     4     4    4      4       4\n",
       "4          5     5     5    5      5       5\n",
       "5          6     6     6    6      6       6\n",
       "6          7     7     7    7      7       7\n",
       "7          8     8     8    8      8       8\n",
       "8          9     9     9    9      9       9\n",
       "9         10    10    10   10     10      10"
      ]
     },
     "execution_count": 16,
     "metadata": {},
     "output_type": "execute_result"
    }
   ],
   "source": [
    "data = {\n",
    "    'Timestamp':list(range(1, 11)),\n",
    "     'Open':list(range(1, 11)),\n",
    "     'High':list(range(1, 11)),\n",
    "     'Low':list(range(1, 11)),\n",
    "     'Close':list(range(1, 11)),\n",
    "     'Volume':list(range(1, 11)),\n",
    "}\n",
    "data = pd.DataFrame(data)\n",
    "data"
   ]
  },
  {
   "cell_type": "code",
   "execution_count": 17,
   "metadata": {},
   "outputs": [],
   "source": [
    "import environment\n",
    "from environment import TradingEnvironment\n",
    "import importlib\n",
    "importlib.reload(environment)\n",
    "\n",
    "env = TradingEnvironment(data=data,\n",
    "                         initial_balance=100,\n",
    "                         transaction_fee=1)"
   ]
  },
  {
   "cell_type": "code",
   "execution_count": 18,
   "metadata": {},
   "outputs": [
    {
     "name": "stdout",
     "output_type": "stream",
     "text": [
      "Opened new SHORT position:\n",
      "Volume: 5\n",
      "Purchase Price: 1\n",
      "Cost: 5\n",
      "\n",
      "Current Status:\n",
      "  Current State: [1 1 1 1 1 1]\n",
      "  Open Position: {'position_type': <PositionType.SHORT: -1>, 'owned_volume': 5, 'purchase_price': 1}\n",
      "  Balance: 94\n",
      "  Portfolio Value: 5\n",
      "\n"
     ]
    }
   ],
   "source": [
    "env.step(action=-1, volume=5)\n",
    "print()\n",
    "env.print_status()"
   ]
  },
  {
   "cell_type": "code",
   "execution_count": 19,
   "metadata": {},
   "outputs": [
    {
     "name": "stdout",
     "output_type": "stream",
     "text": [
      "Holding position.\n",
      "\n",
      "Current Status:\n",
      "  Current State: [2 2 2 2 2 2]\n",
      "  Open Position: {'position_type': <PositionType.SHORT: -1>, 'owned_volume': 5, 'purchase_price': 1}\n",
      "  Balance: 94\n",
      "  Portfolio Value: 0\n",
      "\n"
     ]
    }
   ],
   "source": [
    "env.step(action=0, volume=0)\n",
    "print()\n",
    "env.print_status()"
   ]
  },
  {
   "cell_type": "code",
   "execution_count": 20,
   "metadata": {},
   "outputs": [
    {
     "name": "stdout",
     "output_type": "stream",
     "text": [
      "Bought more SHORT position:\n",
      "Additional Volume: 10\n",
      "Updated Purchase Price: 2.3333333333333335\n",
      "Cost: 30\n",
      "\n",
      "Current Status:\n",
      "  Current State: [3 3 3 3 3 3]\n",
      "  Open Position: {'position_type': <PositionType.SHORT: -1>, 'owned_volume': 15, 'purchase_price': 2.3333333333333335}\n",
      "  Balance: 63\n",
      "  Portfolio Value: 25.0\n",
      "\n"
     ]
    }
   ],
   "source": [
    "env.step(action=-1, volume=10)\n",
    "print()\n",
    "env.print_status()"
   ]
  },
  {
   "cell_type": "code",
   "execution_count": 21,
   "metadata": {},
   "outputs": [
    {
     "name": "stdout",
     "output_type": "stream",
     "text": [
      "Holding position.\n",
      "\n",
      "Current Status:\n",
      "  Current State: [4 4 4 4 4 4]\n",
      "  Open Position: {'position_type': <PositionType.SHORT: -1>, 'owned_volume': 15, 'purchase_price': 2.3333333333333335}\n",
      "  Balance: 63\n",
      "  Portfolio Value: 10.0\n",
      "\n"
     ]
    }
   ],
   "source": [
    "env.step(action=0, volume=0)\n",
    "print()\n",
    "env.print_status()"
   ]
  },
  {
   "cell_type": "code",
   "execution_count": 22,
   "metadata": {},
   "outputs": [
    {
     "name": "stdout",
     "output_type": "stream",
     "text": [
      "Bought more SHORT position:\n",
      "Additional Volume: 8\n",
      "Updated Purchase Price: 3.260869565217391\n",
      "Cost: 40\n",
      "\n",
      "Current Status:\n",
      "  Current State: [5 5 5 5 5 5]\n",
      "  Open Position: {'position_type': <PositionType.SHORT: -1>, 'owned_volume': 23, 'purchase_price': 3.260869565217391}\n",
      "  Balance: 22\n",
      "  Portfolio Value: 35.0\n",
      "\n"
     ]
    }
   ],
   "source": [
    "env.step(action=-1, volume=8)\n",
    "print()\n",
    "env.print_status()"
   ]
  },
  {
   "cell_type": "code",
   "execution_count": 23,
   "metadata": {},
   "outputs": [
    {
     "name": "stdout",
     "output_type": "stream",
     "text": [
      "Sold 15 shares of SHORT position for 6.\n",
      "Total Transaction Profit: -41.08695652173913\n",
      "\n",
      "Current Status:\n",
      "  Current State: [6 6 6 6 6 6]\n",
      "  Open Position: {'position_type': <PositionType.SHORT: -1>, 'owned_volume': 8, 'purchase_price': 3.260869565217391}\n",
      "  Balance: 28.826086956521735\n",
      "  Portfolio Value: 4.173913043478258\n",
      "\n"
     ]
    }
   ],
   "source": [
    "env.step(action=1, volume=15)\n",
    "print()\n",
    "env.print_status()"
   ]
  },
  {
   "cell_type": "code",
   "execution_count": 24,
   "metadata": {},
   "outputs": [
    {
     "name": "stdout",
     "output_type": "stream",
     "text": [
      "Bought more SHORT position:\n",
      "Additional Volume: 2\n",
      "Updated Purchase Price: 4.0086956521739125\n",
      "Cost: 14\n",
      "\n",
      "Current Status:\n",
      "  Current State: [7 7 7 7 7 7]\n",
      "  Open Position: {'position_type': <PositionType.SHORT: -1>, 'owned_volume': 10, 'purchase_price': 4.0086956521739125}\n",
      "  Balance: 13.826086956521735\n",
      "  Portfolio Value: 10.173913043478251\n",
      "\n"
     ]
    }
   ],
   "source": [
    "env.step(action=-1, volume=2)\n",
    "print()\n",
    "env.print_status()"
   ]
  },
  {
   "cell_type": "code",
   "execution_count": 25,
   "metadata": {},
   "outputs": [
    {
     "name": "stdout",
     "output_type": "stream",
     "text": [
      "Holding position.\n",
      "\n",
      "Current Status:\n",
      "  Current State: [8 8 8 8 8 8]\n",
      "  Open Position: {'position_type': <PositionType.SHORT: -1>, 'owned_volume': 10, 'purchase_price': 4.0086956521739125}\n",
      "  Balance: 13.826086956521735\n",
      "  Portfolio Value: 0.17391304347825098\n",
      "\n"
     ]
    }
   ],
   "source": [
    "env.step(action=0, volume=0)\n",
    "print()\n",
    "env.print_status()"
   ]
  }
 ],
 "metadata": {
  "kernelspec": {
   "display_name": "Python 3",
   "language": "python",
   "name": "python3"
  },
  "language_info": {
   "codemirror_mode": {
    "name": "ipython",
    "version": 3
   },
   "file_extension": ".py",
   "mimetype": "text/x-python",
   "name": "python",
   "nbconvert_exporter": "python",
   "pygments_lexer": "ipython3",
   "version": "3.11.4"
  },
  "orig_nbformat": 4
 },
 "nbformat": 4,
 "nbformat_minor": 2
}
