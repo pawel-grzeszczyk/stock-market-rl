{
 "cells": [
  {
   "cell_type": "code",
   "execution_count": 1,
   "metadata": {},
   "outputs": [],
   "source": [
    "import pandas as pd\n",
    "import numpy as np\n",
    "import torch\n",
    "from torch import nn"
   ]
  },
  {
   "cell_type": "code",
   "execution_count": 2,
   "metadata": {},
   "outputs": [],
   "source": [
    "# data = pd.read_csv('data/BTCUSDT_5MIN_data.csv')\n",
    "# data"
   ]
  },
  {
   "cell_type": "code",
   "execution_count": 3,
   "metadata": {},
   "outputs": [
    {
     "data": {
      "text/html": [
       "<div>\n",
       "<style scoped>\n",
       "    .dataframe tbody tr th:only-of-type {\n",
       "        vertical-align: middle;\n",
       "    }\n",
       "\n",
       "    .dataframe tbody tr th {\n",
       "        vertical-align: top;\n",
       "    }\n",
       "\n",
       "    .dataframe thead th {\n",
       "        text-align: right;\n",
       "    }\n",
       "</style>\n",
       "<table border=\"1\" class=\"dataframe\">\n",
       "  <thead>\n",
       "    <tr style=\"text-align: right;\">\n",
       "      <th></th>\n",
       "      <th>Timestamp</th>\n",
       "      <th>Open</th>\n",
       "      <th>High</th>\n",
       "      <th>Low</th>\n",
       "      <th>Close</th>\n",
       "      <th>Volume</th>\n",
       "    </tr>\n",
       "  </thead>\n",
       "  <tbody>\n",
       "    <tr>\n",
       "      <th>0</th>\n",
       "      <td>1</td>\n",
       "      <td>1</td>\n",
       "      <td>1</td>\n",
       "      <td>1</td>\n",
       "      <td>1</td>\n",
       "      <td>1</td>\n",
       "    </tr>\n",
       "    <tr>\n",
       "      <th>1</th>\n",
       "      <td>2</td>\n",
       "      <td>2</td>\n",
       "      <td>2</td>\n",
       "      <td>2</td>\n",
       "      <td>2</td>\n",
       "      <td>2</td>\n",
       "    </tr>\n",
       "    <tr>\n",
       "      <th>2</th>\n",
       "      <td>3</td>\n",
       "      <td>3</td>\n",
       "      <td>3</td>\n",
       "      <td>3</td>\n",
       "      <td>3</td>\n",
       "      <td>3</td>\n",
       "    </tr>\n",
       "    <tr>\n",
       "      <th>3</th>\n",
       "      <td>4</td>\n",
       "      <td>4</td>\n",
       "      <td>4</td>\n",
       "      <td>4</td>\n",
       "      <td>4</td>\n",
       "      <td>4</td>\n",
       "    </tr>\n",
       "    <tr>\n",
       "      <th>4</th>\n",
       "      <td>5</td>\n",
       "      <td>5</td>\n",
       "      <td>5</td>\n",
       "      <td>5</td>\n",
       "      <td>5</td>\n",
       "      <td>5</td>\n",
       "    </tr>\n",
       "    <tr>\n",
       "      <th>5</th>\n",
       "      <td>6</td>\n",
       "      <td>6</td>\n",
       "      <td>6</td>\n",
       "      <td>6</td>\n",
       "      <td>6</td>\n",
       "      <td>6</td>\n",
       "    </tr>\n",
       "    <tr>\n",
       "      <th>6</th>\n",
       "      <td>7</td>\n",
       "      <td>7</td>\n",
       "      <td>7</td>\n",
       "      <td>7</td>\n",
       "      <td>7</td>\n",
       "      <td>7</td>\n",
       "    </tr>\n",
       "    <tr>\n",
       "      <th>7</th>\n",
       "      <td>8</td>\n",
       "      <td>8</td>\n",
       "      <td>8</td>\n",
       "      <td>8</td>\n",
       "      <td>8</td>\n",
       "      <td>8</td>\n",
       "    </tr>\n",
       "    <tr>\n",
       "      <th>8</th>\n",
       "      <td>9</td>\n",
       "      <td>9</td>\n",
       "      <td>9</td>\n",
       "      <td>9</td>\n",
       "      <td>9</td>\n",
       "      <td>9</td>\n",
       "    </tr>\n",
       "    <tr>\n",
       "      <th>9</th>\n",
       "      <td>10</td>\n",
       "      <td>10</td>\n",
       "      <td>10</td>\n",
       "      <td>10</td>\n",
       "      <td>10</td>\n",
       "      <td>10</td>\n",
       "    </tr>\n",
       "  </tbody>\n",
       "</table>\n",
       "</div>"
      ],
      "text/plain": [
       "   Timestamp  Open  High  Low  Close  Volume\n",
       "0          1     1     1    1      1       1\n",
       "1          2     2     2    2      2       2\n",
       "2          3     3     3    3      3       3\n",
       "3          4     4     4    4      4       4\n",
       "4          5     5     5    5      5       5\n",
       "5          6     6     6    6      6       6\n",
       "6          7     7     7    7      7       7\n",
       "7          8     8     8    8      8       8\n",
       "8          9     9     9    9      9       9\n",
       "9         10    10    10   10     10      10"
      ]
     },
     "execution_count": 3,
     "metadata": {},
     "output_type": "execute_result"
    }
   ],
   "source": [
    "data = {\n",
    "    'Timestamp':list(range(1, 11)),\n",
    "     'Open':list(range(1, 11)),\n",
    "     'High':list(range(1, 11)),\n",
    "     'Low':list(range(1, 11)),\n",
    "     'Close':list(range(1, 11)),\n",
    "     'Volume':list(range(1, 11)),\n",
    "}\n",
    "data = pd.DataFrame(data)\n",
    "data"
   ]
  },
  {
   "cell_type": "code",
   "execution_count": 4,
   "metadata": {},
   "outputs": [],
   "source": [
    "import environment\n",
    "from environment import TradingEnvironment\n",
    "import importlib\n",
    "importlib.reload(environment)\n",
    "\n",
    "env = TradingEnvironment(data=data,\n",
    "                         initial_balance=35)"
   ]
  },
  {
   "cell_type": "code",
   "execution_count": 5,
   "metadata": {},
   "outputs": [
    {
     "name": "stdout",
     "output_type": "stream",
     "text": [
      "New position opened. {'p_type': -1, 'owned_volume': 5, 'purchase_price': 1}\n",
      "Transaction Type: -1 | Volume: 5 | Price: 1 | Cost: 5\n",
      "\n",
      "Current state: [1 1 1 1 1 1]\n",
      "Open position: {'p_type': -1, 'owned_volume': 5, 'purchase_price': 1}\n",
      "Balance: 30\n",
      "Portfolio value: 5\n"
     ]
    }
   ],
   "source": [
    "env.step(action=-1, volume=5)\n",
    "print()\n",
    "env.print_status()"
   ]
  },
  {
   "cell_type": "code",
   "execution_count": 6,
   "metadata": {},
   "outputs": [
    {
     "name": "stdout",
     "output_type": "stream",
     "text": [
      "Position updated. {'p_type': -1, 'owned_volume': 6, 'purchase_price': 1.1666666666666667}\n",
      "Transaction Type: -1 | Volume: 1 | Price: 2 | Cost: 2\n",
      "\n",
      "Current state: [2 2 2 2 2 2]\n",
      "Open position: {'p_type': -1, 'owned_volume': 6, 'purchase_price': 1.1666666666666667}\n",
      "Balance: 28\n",
      "Portfolio value: 2.0\n"
     ]
    }
   ],
   "source": [
    "env.step(action=-1, volume=1)\n",
    "print()\n",
    "env.print_status()"
   ]
  },
  {
   "cell_type": "code",
   "execution_count": 7,
   "metadata": {},
   "outputs": [
    {
     "name": "stdout",
     "output_type": "stream",
     "text": [
      "Position updated. {'p_type': -1, 'owned_volume': 7, 'purchase_price': 1.4285714285714286}\n",
      "Transaction Type: -1 | Volume: 1 | Price: 3 | Cost: 3\n",
      "\n",
      "Current state: [3 3 3 3 3 3]\n",
      "Open position: {'p_type': -1, 'owned_volume': 7, 'purchase_price': 1.4285714285714286}\n",
      "Balance: 25\n",
      "Portfolio value: -1.0\n"
     ]
    }
   ],
   "source": [
    "env.step(action=-1, volume=1)\n",
    "print()\n",
    "env.print_status()"
   ]
  },
  {
   "cell_type": "code",
   "execution_count": 8,
   "metadata": {},
   "outputs": [
    {
     "name": "stdout",
     "output_type": "stream",
     "text": [
      "Hold\n",
      "\n",
      "Current state: [4 4 4 4 4 4]\n",
      "Open position: {'p_type': -1, 'owned_volume': 7, 'purchase_price': 1.4285714285714286}\n",
      "Balance: 25\n",
      "Portfolio value: -8.0\n"
     ]
    }
   ],
   "source": [
    "env.step(action=0, volume=0)\n",
    "print()\n",
    "env.print_status()"
   ]
  },
  {
   "cell_type": "code",
   "execution_count": 9,
   "metadata": {},
   "outputs": [
    {
     "name": "stdout",
     "output_type": "stream",
     "text": [
      "Selling 8 of Position Type -1 for 5. Transaction profit: -25.0\n",
      "Position closed\n",
      "New position opened. {'p_type': 1, 'owned_volume': 1, 'purchase_price': 5}\n",
      "Transaction Type: 1 | Volume: 1 | Price: 5 | Cost: 5\n",
      "\n",
      "Current state: [5 5 5 5 5 5]\n",
      "Open position: {'p_type': 1, 'owned_volume': 1, 'purchase_price': 5}\n",
      "Balance: 5.0\n",
      "Portfolio value: 5\n"
     ]
    }
   ],
   "source": [
    "env.step(action=1, volume=8)\n",
    "print()\n",
    "env.print_status()"
   ]
  },
  {
   "cell_type": "code",
   "execution_count": 10,
   "metadata": {},
   "outputs": [
    {
     "name": "stdout",
     "output_type": "stream",
     "text": [
      "Hold\n",
      "\n",
      "Current state: [6 6 6 6 6 6]\n",
      "Open position: {'p_type': 1, 'owned_volume': 1, 'purchase_price': 5}\n",
      "Balance: 5.0\n",
      "Portfolio value: 6\n"
     ]
    }
   ],
   "source": [
    "env.step(action=0, volume=0)\n",
    "print()\n",
    "env.print_status()"
   ]
  }
 ],
 "metadata": {
  "kernelspec": {
   "display_name": "Python 3",
   "language": "python",
   "name": "python3"
  },
  "language_info": {
   "codemirror_mode": {
    "name": "ipython",
    "version": 3
   },
   "file_extension": ".py",
   "mimetype": "text/x-python",
   "name": "python",
   "nbconvert_exporter": "python",
   "pygments_lexer": "ipython3",
   "version": "3.11.4"
  },
  "orig_nbformat": 4
 },
 "nbformat": 4,
 "nbformat_minor": 2
}
